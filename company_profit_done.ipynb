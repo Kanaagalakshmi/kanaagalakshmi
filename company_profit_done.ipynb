{
 "cells": [
  {
   "cell_type": "code",
   "execution_count": 1,
   "metadata": {},
   "outputs": [],
   "source": [
    "import numpy as np\n",
    "import matplotlib.pyplot as plt\n",
    "import pandas as pd #importing data and setting it in a data frame and tools \n",
    "import seaborn as sns\n",
    "%matplotlib inline"
   ]
  },
  {
   "cell_type": "code",
   "execution_count": 2,
   "metadata": {},
   "outputs": [
    {
     "data": {
      "text/html": [
       "<div>\n",
       "<style scoped>\n",
       "    .dataframe tbody tr th:only-of-type {\n",
       "        vertical-align: middle;\n",
       "    }\n",
       "\n",
       "    .dataframe tbody tr th {\n",
       "        vertical-align: top;\n",
       "    }\n",
       "\n",
       "    .dataframe thead th {\n",
       "        text-align: right;\n",
       "    }\n",
       "</style>\n",
       "<table border=\"1\" class=\"dataframe\">\n",
       "  <thead>\n",
       "    <tr style=\"text-align: right;\">\n",
       "      <th></th>\n",
       "      <th>R&amp;D Spend</th>\n",
       "      <th>Administration</th>\n",
       "      <th>Marketing Spend</th>\n",
       "      <th>State</th>\n",
       "      <th>Profit</th>\n",
       "    </tr>\n",
       "  </thead>\n",
       "  <tbody>\n",
       "    <tr>\n",
       "      <th>0</th>\n",
       "      <td>165349.20</td>\n",
       "      <td>136897.80</td>\n",
       "      <td>471784.10</td>\n",
       "      <td>New York</td>\n",
       "      <td>192261.83</td>\n",
       "    </tr>\n",
       "    <tr>\n",
       "      <th>1</th>\n",
       "      <td>162597.70</td>\n",
       "      <td>151377.59</td>\n",
       "      <td>443898.53</td>\n",
       "      <td>California</td>\n",
       "      <td>191792.06</td>\n",
       "    </tr>\n",
       "    <tr>\n",
       "      <th>2</th>\n",
       "      <td>153441.51</td>\n",
       "      <td>101145.55</td>\n",
       "      <td>407934.54</td>\n",
       "      <td>Florida</td>\n",
       "      <td>191050.39</td>\n",
       "    </tr>\n",
       "    <tr>\n",
       "      <th>3</th>\n",
       "      <td>144372.41</td>\n",
       "      <td>118671.85</td>\n",
       "      <td>383199.62</td>\n",
       "      <td>New York</td>\n",
       "      <td>182901.99</td>\n",
       "    </tr>\n",
       "    <tr>\n",
       "      <th>4</th>\n",
       "      <td>142107.34</td>\n",
       "      <td>91391.77</td>\n",
       "      <td>366168.42</td>\n",
       "      <td>Florida</td>\n",
       "      <td>166187.94</td>\n",
       "    </tr>\n",
       "  </tbody>\n",
       "</table>\n",
       "</div>"
      ],
      "text/plain": [
       "   R&D Spend  Administration  Marketing Spend       State     Profit\n",
       "0  165349.20       136897.80        471784.10    New York  192261.83\n",
       "1  162597.70       151377.59        443898.53  California  191792.06\n",
       "2  153441.51       101145.55        407934.54     Florida  191050.39\n",
       "3  144372.41       118671.85        383199.62    New York  182901.99\n",
       "4  142107.34        91391.77        366168.42     Florida  166187.94"
      ]
     },
     "execution_count": 2,
     "metadata": {},
     "output_type": "execute_result"
    }
   ],
   "source": [
    "#loading dataset and extracting independant(x) and dependant(y) variables\n",
    "companies=pd.read_csv('1000_Companies.csv')\n",
    "x = companies.iloc[:,:-1].values #take every row except for the last column\n",
    "#x is no longer a pandas dataset\n",
    "#data are extracted easily using this [:,:-1].values\n",
    "y = companies.iloc[:,4].values\n",
    "#y is the last row\n",
    "\n",
    "companies.head()\n"
   ]
  },
  {
   "cell_type": "code",
   "execution_count": 3,
   "metadata": {},
   "outputs": [
    {
     "data": {
      "text/plain": [
       "<matplotlib.axes._subplots.AxesSubplot at 0x29a77d1ba60>"
      ]
     },
     "execution_count": 3,
     "metadata": {},
     "output_type": "execute_result"
    },
    {
     "data": {
      "image/png": "[encoded data removed]",
      "text/plain": [
       "<Figure size 432x288 with 2 Axes>"
      ]
     },
     "metadata": {
      "needs_background": "light"
     },
     "output_type": "display_data"
    }
   ],
   "source": [
    "#Data visualization\n",
    "#Building the correlation matrix\n",
    "#sns pandas, seaborn as sns\n",
    "#seaborn understands pandas dataframe\n",
    "sns.heatmap(companies.corr())"
   ]
  },
  {
   "cell_type": "code",
   "execution_count": 4,
   "metadata": {},
   "outputs": [],
   "source": [
    "#dark rows or dark columns shows lowest corresponding data\n",
    "#light rows or light columns shows highest corresponding data --more connection between data\n",
    "#according to the scale at the right"
   ]
  },
  {
   "cell_type": "code",
   "execution_count": 5,
   "metadata": {},
   "outputs": [
    {
     "name": "stdout",
     "output_type": "stream",
     "text": [
      "Requirement already up-to-date: category_encoders in f:\\s.downloads\\anaconda\\lib\\site-packages (2.2.2)\n",
      "Requirement already satisfied, skipping upgrade: patsy>=0.5.1 in f:\\s.downloads\\anaconda\\lib\\site-packages (from category_encoders) (0.5.1)\n",
      "Requirement already satisfied, skipping upgrade: pandas>=0.21.1 in f:\\s.downloads\\anaconda\\lib\\site-packages (from category_encoders) (1.0.5)\n",
      "Requirement already satisfied, skipping upgrade: scikit-learn>=0.20.0 in f:\\s.downloads\\anaconda\\lib\\site-packages (from category_encoders) (0.23.1)\n",
      "Requirement already satisfied, skipping upgrade: statsmodels>=0.9.0 in f:\\s.downloads\\anaconda\\lib\\site-packages (from category_encoders) (0.11.1)\n",
      "Requirement already satisfied, skipping upgrade: scipy>=1.0.0 in f:\\s.downloads\\anaconda\\lib\\site-packages (from category_encoders) (1.5.0)\n",
      "Requirement already satisfied, skipping upgrade: numpy>=1.14.0 in f:\\s.downloads\\anaconda\\lib\\site-packages (from category_encoders) (1.18.5)\n",
      "Requirement already satisfied, skipping upgrade: six in f:\\s.downloads\\anaconda\\lib\\site-packages (from patsy>=0.5.1->category_encoders) (1.15.0)\n",
      "Requirement already satisfied, skipping upgrade: python-dateutil>=2.6.1 in f:\\s.downloads\\anaconda\\lib\\site-packages (from pandas>=0.21.1->category_encoders) (2.8.1)\n",
      "Requirement already satisfied, skipping upgrade: pytz>=2017.2 in f:\\s.downloads\\anaconda\\lib\\site-packages (from pandas>=0.21.1->category_encoders) (2020.1)\n",
      "Requirement already satisfied, skipping upgrade: joblib>=0.11 in f:\\s.downloads\\anaconda\\lib\\site-packages (from scikit-learn>=0.20.0->category_encoders) (0.16.0)\n",
      "Requirement already satisfied, skipping upgrade: threadpoolctl>=2.0.0 in f:\\s.downloads\\anaconda\\lib\\site-packages (from scikit-learn>=0.20.0->category_encoders) (2.1.0)\n"
     ]
    }
   ],
   "source": [
    "#set up linear regression model in two steps\n",
    "\n",
    "#1.Encoding categorical data\n",
    "!pip install --upgrade category_encoders\n"
   ]
  },
  {
   "cell_type": "code",
   "execution_count": 6,
   "metadata": {},
   "outputs": [
    {
     "name": "stdout",
     "output_type": "stream",
     "text": [
      "[[165349.2 136897.8 471784.1 'New York']\n",
      " [162597.7 151377.59 443898.53 'California']\n",
      " [153441.51 101145.55 407934.54 'Florida']\n",
      " ...\n",
      " [100275.47 241926.31 227142.82 'California']\n",
      " [128456.23 321652.14 281692.32 'California']\n",
      " [161181.72 270939.86 295442.17 'New York']]\n"
     ]
    }
   ],
   "source": [
    "print(x)"
   ]
  },
  {
   "cell_type": "code",
   "execution_count": 7,
   "metadata": {},
   "outputs": [],
   "source": [
    "from sklearn.compose import ColumnTransformer\n",
    "from sklearn.preprocessing import LabelEncoder , OneHotEncoder\n",
    "import category_encoders as ce\n",
    "#labelencoder = LabelEncoder()\n",
    "\n",
    "#This creates a class that we can reuse to transfer the labels back and forth\n",
    "\n",
    "#x[:,3]= labelencoder.fit_transform(x[:,3]) #changes states(label) to numbers [3rd-0,1,2,3(4th column)]\n",
    "\n",
    "#onehotencoder=OneHotEncoder(categorical_features = x[3])#handle_unknown='ignore')# or default='error'  #categorical_features = 'auto').fit(x)\n",
    "#categorical_features is depreciated in .20 and will be removed in .22\n",
    "#onehotencoder=ColumnTransformer([('State',OneHotEncoder(categories='auto'),[3])])#,remainder='passthrough')\n",
    "#onehotencoder=ce.OneHotEncoder(handle_unknown='return_nan',return_df=True,use_cat_names=True)\n",
    "\n",
    "#handle_unknown='ignore'\n",
    "#x= onehotencoder.fit_transform(x)#.toarray()\n",
    "\n",
    "#final transformation sets us the data in a way we need it to be,simply a row of numbers\n",
    "#now x is an array of arrays and each array is row of numbers\n",
    "#print(x)\n"
   ]
  },
  {
   "cell_type": "code",
   "execution_count": 8,
   "metadata": {},
   "outputs": [],
   "source": [
    "labelencoder=LabelEncoder()\n",
    "#companies['State']\n",
    "x[:,3]=labelencoder.fit_transform(companies['State'])\n",
    "columnTransformer = ColumnTransformer([('encoder', OneHotEncoder(), [3])], remainder='passthrough')"
   ]
  },
  {
   "cell_type": "code",
   "execution_count": 9,
   "metadata": {},
   "outputs": [],
   "source": [
    "companies = np.array(columnTransformer.fit_transform(companies))#, dtype = np.str)"
   ]
  },
  {
   "cell_type": "code",
   "execution_count": 10,
   "metadata": {},
   "outputs": [
    {
     "name": "stdout",
     "output_type": "stream",
     "text": [
      "[[165349.2 136897.8 471784.1 2]\n",
      " [162597.7 151377.59 443898.53 0]\n",
      " [153441.51 101145.55 407934.54 1]\n",
      " ...\n",
      " [100275.47 241926.31 227142.82 0]\n",
      " [128456.23 321652.14 281692.32 0]\n",
      " [161181.72 270939.86 295442.17 2]]\n"
     ]
    }
   ],
   "source": [
    "\n",
    "print(x)"
   ]
  },
  {
   "cell_type": "code",
   "execution_count": 11,
   "metadata": {},
   "outputs": [],
   "source": [
    "x=x.astype(np.float)"
   ]
  },
  {
   "cell_type": "code",
   "execution_count": 12,
   "metadata": {},
   "outputs": [
    {
     "name": "stdout",
     "output_type": "stream",
     "text": [
      "[[1.6534920e+05 1.3689780e+05 4.7178410e+05 2.0000000e+00]\n",
      " [1.6259770e+05 1.5137759e+05 4.4389853e+05 0.0000000e+00]\n",
      " [1.5344151e+05 1.0114555e+05 4.0793454e+05 1.0000000e+00]\n",
      " ...\n",
      " [1.0027547e+05 2.4192631e+05 2.2714282e+05 0.0000000e+00]\n",
      " [1.2845623e+05 3.2165214e+05 2.8169232e+05 0.0000000e+00]\n",
      " [1.6118172e+05 2.7093986e+05 2.9544217e+05 2.0000000e+00]]\n"
     ]
    }
   ],
   "source": [
    "print(x)"
   ]
  },
  {
   "cell_type": "code",
   "execution_count": 13,
   "metadata": {},
   "outputs": [
    {
     "name": "stdout",
     "output_type": "stream",
     "text": [
      "[[1.3689780e+05 4.7178410e+05 2.0000000e+00]\n",
      " [1.5137759e+05 4.4389853e+05 0.0000000e+00]\n",
      " [1.0114555e+05 4.0793454e+05 1.0000000e+00]\n",
      " ...\n",
      " [2.4192631e+05 2.2714282e+05 0.0000000e+00]\n",
      " [3.2165214e+05 2.8169232e+05 0.0000000e+00]\n",
      " [2.7093986e+05 2.9544217e+05 2.0000000e+00]]\n"
     ]
    }
   ],
   "source": [
    "#removing dummy index column\n",
    "x=x[:,1:]\n",
    "print(x)"
   ]
  },
  {
   "cell_type": "code",
   "execution_count": 14,
   "metadata": {},
   "outputs": [],
   "source": [
    "#linear regression model\n",
    "#1.Training set\n",
    "#2.Testing set\n",
    "\n",
    "#splitting the dataset into the training set and the testing set\n",
    "\n",
    "from sklearn.model_selection import train_test_split\n",
    "x_train,x_test,y_train,y_test = train_test_split(x,y,test_size=0.2,random_state=0)\n",
    "#0.2 means 20% of the rows are gonna be tested,put aside as test set\n",
    "#thus out of 1000 lines of dataset 200 are putaside and that 200 are picked randomly , random_state = 0"
   ]
  },
  {
   "cell_type": "code",
   "execution_count": 15,
   "metadata": {},
   "outputs": [
    {
     "data": {
      "text/plain": [
       "LinearRegression()"
      ]
     },
     "execution_count": 15,
     "metadata": {},
     "output_type": "execute_result"
    }
   ],
   "source": [
    "#now creating the linear regression model\n",
    "from sklearn.linear_model import LinearRegression\n",
    "regressor = LinearRegression() #LinearRegression class contains that math built in for the computation\n",
    "regressor.fit(x_train,y_train)"
   ]
  },
  {
   "cell_type": "code",
   "execution_count": 21,
   "metadata": {},
   "outputs": [
    {
     "data": {
      "text/plain": [
       "array([ 90209.64901318,  88876.28325862,  95200.74973042, 174739.58503941,\n",
       "        84013.74722284, 110572.81423949, 169438.58451208,  91855.1682484 ,\n",
       "       163402.29005648,  54991.76617392,  67874.72481309, 150180.9861358 ,\n",
       "       126512.60670878,  60430.86889281, 175991.46628657,  76097.46542299,\n",
       "       118577.95366564, 163338.33779446, 165329.70854714, 180487.66382609,\n",
       "       101238.40282718,  86180.18269683, 179933.75346041,  84689.06190888,\n",
       "       105088.13051962, 101399.34780971,  40828.42858138,  58070.59626831,\n",
       "        69777.85472814, 226802.72627013, 121052.52594777, 111658.45981284,\n",
       "       101689.86321283, 137852.59801618,  64960.45224275, 108854.95146996,\n",
       "       184345.94907957, 170595.15880734, 173725.92497117, 118014.06326024,\n",
       "        97038.60706862, 164196.76013804, 107746.47058118,  52030.50278345,\n",
       "       116882.08703837,  59741.11018494, 157857.27897357,  79750.07622713,\n",
       "       159139.45816291, 131182.41311202, 183735.81760226, 173691.52102156,\n",
       "        94077.16471212,  79055.37228415, 179193.73688257,  85539.18255677,\n",
       "       142685.10466661, 169290.41285941,  84946.0123958 , 105424.79762652,\n",
       "       141471.73344522,  53812.88851425, 141109.98209805, 138544.12449302,\n",
       "        98525.35315256, 114019.84013539, 126396.98673988, 151216.5527697 ,\n",
       "        60009.80841183, 173375.17181713, 124272.14963365, 167730.30512327,\n",
       "        92206.01101456, 155162.10688204,  84847.65607993,  78602.24617494,\n",
       "       120695.89889888,  93761.83359006, 138350.10811473, 142832.70064453,\n",
       "       170307.33979742, 139388.94182688, 106463.63123443, 154603.07232232,\n",
       "       139379.05136376, 110182.62230992,  70537.26059843,  88645.70361798,\n",
       "       139438.45008128, 147641.05170022, 156869.72126349,  59643.77197986,\n",
       "        94081.53927638, 113100.16181875,  57752.56877436, 107485.68247072,\n",
       "       147038.4722533 , 151224.944042  , 166542.28652602, 118528.35593888,\n",
       "       121037.42174722, 138899.82289638, 156489.59877727, 122209.67591778,\n",
       "        87611.90462751, 105420.51243038,  95673.35467317, 176889.50642142,\n",
       "       180322.17764231, 109848.65149198, 164002.92284422, 166498.47315072,\n",
       "       156953.6334675 , 173362.67443317, 168836.26856357,  53550.90329145,\n",
       "       175428.41512306, 104839.75018099,  83286.04901321, 138264.69665116,\n",
       "       144028.53976029, 161047.62283516, 168853.97964945, 120731.98115931,\n",
       "       158311.24418492, 110180.76505437, 168367.37799216,  61822.13404496,\n",
       "       157923.48016043, 157075.12729573, 173097.51172293, 155283.77969052,\n",
       "       103825.25107934,  86188.75284512, 140875.86692656, 164693.69969128,\n",
       "       121446.91360112, 176415.2867655 , 101228.25635896,  83227.39996098,\n",
       "       177095.75155581, 101943.93836181,  71395.02274908,  90700.7147071 ,\n",
       "        62340.05164744,  69835.09399318,  74112.01200262, 175404.91965022,\n",
       "        90666.22114537, 150611.55534056,  93568.74599705,  63961.30747995,\n",
       "       171417.40945363,  61952.19803214, 168222.12034272, 165172.65956631,\n",
       "       164711.23169268, 102856.15401618, 180023.62903163,  75018.26432529,\n",
       "        91653.77885545, 135192.49017143,  65934.01337805,  72635.24588968,\n",
       "        61710.70977498, 183156.8229963 , 175332.00553509, 157838.90773028,\n",
       "       140678.85216661, 153637.42131765,  59701.85037545,  91559.88668045,\n",
       "       151949.94585843, 167617.95209287,  73329.20016737, 116442.3868544 ,\n",
       "        81262.17503945, 148960.9914253 , 116669.87853678, 129716.3764601 ,\n",
       "       173618.51732983, 298075.79813027, 145439.85431614, 149760.67520877,\n",
       "        87148.61949834,  71365.56394454,  71492.27147469,  69912.11428869,\n",
       "       120444.25162176,  90141.01995445, 166079.00146558, 125143.15876482,\n",
       "        68170.27493788, 143636.00582325, 118326.96654593, 164632.26473798,\n",
       "       167869.68891337, 146162.33882386, 140714.93439153, 109120.29312493])"
      ]
     },
     "execution_count": 21,
     "metadata": {},
     "output_type": "execute_result"
    }
   ],
   "source": [
    "#use the model now\n",
    "y_pred=regressor.predict(x_test)\n",
    "y_pred\n",
    "#for the 200 test variables we're gonna get 200 answers"
   ]
  },
  {
   "cell_type": "code",
   "execution_count": 22,
   "metadata": {},
   "outputs": [
    {
     "name": "stdout",
     "output_type": "stream",
     "text": [
      "[   1.04239904    0.35510511 -320.45531609]\n"
     ]
    }
   ],
   "source": [
    "#calculation the coefficients and the intercepts\n",
    "print(regressor.coef_)"
   ]
  },
  {
   "cell_type": "code",
   "execution_count": 23,
   "metadata": {},
   "outputs": [
    {
     "name": "stdout",
     "output_type": "stream",
     "text": [
      "-88623.7652734379\n"
     ]
    }
   ],
   "source": [
    "print(regressor.intercept_)"
   ]
  },
  {
   "cell_type": "code",
   "execution_count": 24,
   "metadata": {},
   "outputs": [
    {
     "data": {
      "text/plain": [
       "0.8985038788872524"
      ]
     },
     "execution_count": 24,
     "metadata": {},
     "output_type": "execute_result"
    }
   ],
   "source": [
    "#evaluating the model\n",
    "#calculating r square value \n",
    "from sklearn.metrics import r2_score\n",
    "r2_score(y_test,y_pred)\n"
   ]
  },
  {
   "cell_type": "code",
   "execution_count": 20,
   "metadata": {},
   "outputs": [],
   "source": [
    "#r squared value of 0.91 proves the model is a good model\n",
    "#success"
   ]
  }
 ],
 "metadata": {
  "kernelspec": {
   "display_name": "Python 3",
   "language": "python",
   "name": "python3"
  },
  "language_info": {
   "codemirror_mode": {
    "name": "ipython",
    "version": 3
   },
   "file_extension": ".py",
   "mimetype": "text/x-python",
   "name": "python",
   "nbconvert_exporter": "python",
   "pygments_lexer": "ipython3",
   "version": "3.8.3"
  }
 },
 "nbformat": 4,
 "nbformat_minor": 4
}
